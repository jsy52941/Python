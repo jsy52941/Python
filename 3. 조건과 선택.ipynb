{
 "cells": [
  {
   "cell_type": "markdown",
   "id": "fc4b0917",
   "metadata": {},
   "source": [
    "# 1학년 정보 프로그래밍"
   ]
  },
  {
   "cell_type": "markdown",
   "id": "31821f22",
   "metadata": {},
   "source": [
    "## 3. 조건과 선택"
   ]
  },
  {
   "cell_type": "markdown",
   "id": "9814e9d1",
   "metadata": {},
   "source": [
    "### 1. 조건문\n",
    " - 선택 구조 : 조건에 의해 서로 다른 처리를 하는 프로그램 구조"
   ]
  },
  {
   "cell_type": "markdown",
   "id": "a43472a6",
   "metadata": {},
   "source": [
    "#### 1. if~else 조건문"
   ]
  },
  {
   "cell_type": "markdown",
   "id": "af460115",
   "metadata": {},
   "source": [
    "#### 2. if 조건문"
   ]
  },
  {
   "cell_type": "markdown",
   "id": "ea0a8395",
   "metadata": {},
   "source": [
    "### 2. 비교 연산자를 이용한 조건식"
   ]
  },
  {
   "cell_type": "markdown",
   "id": "526734a6",
   "metadata": {},
   "source": [
    "#### 1. 숫자 비교"
   ]
  },
  {
   "cell_type": "code",
   "execution_count": 4,
   "id": "a98e19c6",
   "metadata": {},
   "outputs": [
    {
     "name": "stdout",
     "output_type": "stream",
     "text": [
      "카드 잔액을 입력하세요.900\n",
      "버스 탑승 불가\n"
     ]
    }
   ],
   "source": [
    "card = input(\"카드 잔액을 입력하세요.\")  # 프로그램이 입력을 기다림\n",
    "card = int(card)\n",
    "\n",
    "if (card >= 1000):\n",
    "    print(\"버스 탑승 가능\")\n",
    "else:\n",
    "    print(\"버스 탑승 불가\")"
   ]
  },
  {
   "cell_type": "markdown",
   "id": "d4aed29f",
   "metadata": {},
   "source": [
    "#### 2. 문자 비교"
   ]
  },
  {
   "cell_type": "code",
   "execution_count": 9,
   "id": "d5a7ca29",
   "metadata": {},
   "outputs": [
    {
     "name": "stdout",
     "output_type": "stream",
     "text": [
      "보안 문자를 입력하세요.N8SHA\n",
      "비밀번호 찾기 허용\n"
     ]
    }
   ],
   "source": [
    "captcha = input(\"보안 문자를 입력하세요.\")\n",
    "\n",
    "if (captcha == \"N8SHA\"):\n",
    "    print(\"비밀번호 찾기 허용\")\n",
    "else:\n",
    "    print(\"비밀번호 찾기 허용 안함.\")"
   ]
  },
  {
   "cell_type": "code",
   "execution_count": 8,
   "id": "ded671b2",
   "metadata": {},
   "outputs": [
    {
     "name": "stdout",
     "output_type": "stream",
     "text": [
      "전기 사용량(kW) 입력:120\n",
      "전기 사용량:  120 kW\n",
      "전기 요금:  38880.0 원\n"
     ]
    }
   ],
   "source": [
    "base = 270\n",
    "use = input(\"전기 사용량(kW) 입력:\")\n",
    "use = int(use)\n",
    "\n",
    "if (use > 100) :\n",
    "    cost = (use * base) * 1.2\n",
    "else:\n",
    "    cost = use * base\n",
    "    \n",
    "print(\"전기 사용량: \", use, \"kW\")\n",
    "print(\"전기 요금: \", cost, \"원\")"
   ]
  },
  {
   "cell_type": "code",
   "execution_count": 2,
   "id": "6a736e95",
   "metadata": {},
   "outputs": [
    {
     "name": "stdout",
     "output_type": "stream",
     "text": [
      "전기 사용량(kW) 입력:120\n",
      "전기 사용량:  120 kW\n",
      "전기 요금:  38880.0 원\n"
     ]
    }
   ],
   "source": [
    "base = 270\n",
    "use = input(\"전기 사용량(kW) 입력:\")\n",
    "use = int(use)\n",
    "\n",
    "cost = use * base\n",
    "\n",
    "if (use > 100) :\n",
    "    cost = cost * 1.2\n",
    "    \n",
    "print(\"전기 사용량: \", use, \"kW\")\n",
    "print(\"전기 요금: \", cost, \"원\")"
   ]
  },
  {
   "cell_type": "markdown",
   "id": "e5170166",
   "metadata": {},
   "source": [
    "### 3. 논리 연산자를 이용한 조건식"
   ]
  },
  {
   "cell_type": "markdown",
   "id": "7394ac9e",
   "metadata": {},
   "source": [
    "#### 1. 그리고(and)를 이용한 조건식"
   ]
  },
  {
   "cell_type": "code",
   "execution_count": 7,
   "id": "faf9eb48",
   "metadata": {},
   "outputs": [
    {
     "name": "stdout",
     "output_type": "stream",
     "text": [
      "아이디를 입력하세요.info\n",
      "비밀번호를 입력하세요.education\n",
      "로그인 되었습니다.\n"
     ]
    }
   ],
   "source": [
    "id = input(\"아이디를 입력하세요.\")\n",
    "pw = input(\"비밀번호를 입력하세요.\")\n",
    "\n",
    "if (id == \"info\" and pw == \"education\"):\n",
    "    print(\"로그인 되었습니다.\")\n",
    "else:\n",
    "    print(\"로그인에 실패했습니다.\")"
   ]
  },
  {
   "cell_type": "markdown",
   "id": "785ffcd5",
   "metadata": {},
   "source": [
    "#### 2.  또는(or)을 이용한 조건식"
   ]
  },
  {
   "cell_type": "code",
   "execution_count": 6,
   "id": "3b446761",
   "metadata": {},
   "outputs": [
    {
     "name": "stdout",
     "output_type": "stream",
     "text": [
      "승객 유형을 입력하세요. [임산부, 노약자, 일반]임산부\n",
      "이용 가능\n"
     ]
    }
   ],
   "source": [
    "kind = input(\"승객 유형을 입력하세요. [임산부, 노약자, 일반]\")\n",
    "\n",
    "if (kind == \"임산부\" or kind == \"노약자\"):\n",
    "    print(\"이용 가능\")\n",
    "else:\n",
    "    print(\"이용 불가능\")"
   ]
  },
  {
   "cell_type": "markdown",
   "id": "16f66078",
   "metadata": {},
   "source": [
    "#### 3. 부정(not)을 이용한 조건식"
   ]
  },
  {
   "cell_type": "code",
   "execution_count": 5,
   "id": "a55e16d1",
   "metadata": {},
   "outputs": [
    {
     "name": "stdout",
     "output_type": "stream",
     "text": [
      "종류를 입력하세요. [사람, 개, 고양이, 새]고양이\n",
      "운송 용기 사용\n"
     ]
    }
   ],
   "source": [
    "kind = input(\"종류를 입력하세요. [사람, 개, 고양이, 새]\")\n",
    "\n",
    "if (not kind == \"사람\"):\n",
    "    print(\"운송 용기 사용\")\n",
    "else:\n",
    "    print(\"운송 용기 미사용\")"
   ]
  },
  {
   "cell_type": "code",
   "execution_count": 4,
   "id": "d51d5e34",
   "metadata": {},
   "outputs": [
    {
     "name": "stdout",
     "output_type": "stream",
     "text": [
      "종류를 입력하세요. [사람, 개, 고양이, 새]개\n",
      "운송 용기 사용\n"
     ]
    }
   ],
   "source": [
    "kind = input(\"종류를 입력하세요. [사람, 개, 고양이, 새]\")\n",
    "\n",
    "if (kind != \"사람\"):\n",
    "    print(\"운송 용기 사용\")\n",
    "else:\n",
    "    print(\"운송 용기 미사용\")"
   ]
  },
  {
   "cell_type": "markdown",
   "id": "54bcb5cd",
   "metadata": {},
   "source": [
    "### 4. 다중 조건문"
   ]
  },
  {
   "cell_type": "code",
   "execution_count": 3,
   "id": "8281c060",
   "metadata": {},
   "outputs": [
    {
     "name": "stdout",
     "output_type": "stream",
     "text": [
      "점수를 입력하세요: 75\n",
      "성취도 C\n"
     ]
    }
   ],
   "source": [
    "point = input(\"점수를 입력하세요: \")\n",
    "point = int(point)\n",
    "\n",
    "if (point >= 90 and point <= 100):\n",
    "    print(\"성취도 A\")\n",
    "elif (point >= 80 and point <= 89):\n",
    "    print(\"성취도 B\")\n",
    "elif (point >= 70 and point <= 79):\n",
    "    print(\"성취도 C\")\n",
    "elif (point >= 60 and point <= 69):\n",
    "    print(\"성취도 D\")\n",
    "else:\n",
    "    print(\"성취도 F\")    "
   ]
  },
  {
   "cell_type": "code",
   "execution_count": 1,
   "id": "25ad444e",
   "metadata": {},
   "outputs": [
    {
     "name": "stdout",
     "output_type": "stream",
     "text": [
      "점수를 입력하세요: 75\n",
      "성취도 C\n"
     ]
    }
   ],
   "source": [
    "point = input(\"점수를 입력하세요: \")\n",
    "point = int(point)\n",
    "\n",
    "if (point >= 90):\n",
    "    print(\"성취도 A\")\n",
    "elif (point >= 80):\n",
    "    print(\"성취도 B\")\n",
    "elif (point >= 70):\n",
    "    print(\"성취도 C\")\n",
    "elif (point >= 60):\n",
    "    print(\"성취도 D\")\n",
    "else:\n",
    "    print(\"성취도 F\")    "
   ]
  },
  {
   "cell_type": "markdown",
   "id": "77b53074",
   "metadata": {},
   "source": [
    "* 찜질방 요금 계산 프로그램 만들기"
   ]
  },
  {
   "cell_type": "code",
   "execution_count": 2,
   "id": "c84881ee",
   "metadata": {},
   "outputs": [
    {
     "name": "stdout",
     "output_type": "stream",
     "text": [
      "나이를 입력하세요:7\n",
      "20% 할인 대상입니다.\n",
      "찜질방 이용 요금:  11200.0\n"
     ]
    }
   ],
   "source": [
    "age = input(\"나이를 입력하세요:\")\n",
    "age = int(age)\n",
    "cost = 14000\n",
    "\n",
    "if (age >= 60 or age <= 10):\n",
    "    if (age >= 60):\n",
    "        print(\"30% 할인 대상입니다.\")\n",
    "        cost = cost - cost * 0.3\n",
    "    else:\n",
    "        print(\"20% 할인 대상입니다.\")\n",
    "        cost = cost - cost * 0.2\n",
    "else:\n",
    "    print(\"할인 대상이 아닙니다.\")\n",
    "\n",
    "print(\"찜질방 이용 요금: \", cost)"
   ]
  },
  {
   "cell_type": "code",
   "execution_count": 1,
   "id": "052b4887",
   "metadata": {},
   "outputs": [
    {
     "name": "stdout",
     "output_type": "stream",
     "text": [
      "나이를 입력하세요:18\n",
      "할인 대상이 아닙니다.\n",
      "찜질방 이용 요금:  14000\n"
     ]
    }
   ],
   "source": [
    "age = input(\"나이를 입력하세요:\")\n",
    "age = int(age)\n",
    "cost = 14000\n",
    "\n",
    "if (age >= 60):\n",
    "        print(\"30% 할인 대상입니다.\")\n",
    "        cost = cost - cost * 0.3\n",
    "elif (age <= 10):\n",
    "        print(\"20% 할인 대상입니다.\")\n",
    "        cost = cost - cost * 0.2\n",
    "else:\n",
    "    print(\"할인 대상이 아닙니다.\")\n",
    "\n",
    "print(\"찜질방 이용 요금: \", cost)"
   ]
  }
 ],
 "metadata": {
  "kernelspec": {
   "display_name": "Python 3",
   "language": "python",
   "name": "python3"
  },
  "language_info": {
   "codemirror_mode": {
    "name": "ipython",
    "version": 3
   },
   "file_extension": ".py",
   "mimetype": "text/x-python",
   "name": "python",
   "nbconvert_exporter": "python",
   "pygments_lexer": "ipython3",
   "version": "3.8.8"
  }
 },
 "nbformat": 4,
 "nbformat_minor": 5
}
