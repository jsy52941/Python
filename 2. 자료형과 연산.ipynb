{
 "cells": [
  {
   "cell_type": "markdown",
   "id": "fc4b0917",
   "metadata": {},
   "source": [
    "# 1학년 정보 프로그래밍"
   ]
  },
  {
   "cell_type": "markdown",
   "id": "31821f22",
   "metadata": {},
   "source": [
    "## 2. 자료형과 연산"
   ]
  },
  {
   "cell_type": "markdown",
   "id": "9814e9d1",
   "metadata": {},
   "source": [
    "### 1. 자료와 자료형\n",
    " - 자료 : 현실 세계로부터 관찰이나 측정을 통해 얻은 값\n",
    " - 자료형 : 숫자형, 문자형, 참/거짓형"
   ]
  },
  {
   "cell_type": "markdown",
   "id": "a43472a6",
   "metadata": {},
   "source": [
    "### 2. 변수\n",
    " - 변수 : 프로그램이 계산을 하는 과정에서 수시로 변하는 값을 기억하기 위해 사용하는 저장 공간의 이름"
   ]
  },
  {
   "cell_type": "code",
   "execution_count": 2,
   "id": "3eee568e",
   "metadata": {},
   "outputs": [
    {
     "name": "stdout",
     "output_type": "stream",
     "text": [
      "50 20 70\n"
     ]
    }
   ],
   "source": [
    "a=50            # 변수 a에 50 저장\n",
    "b=20            # 변수 b에 20 저장\n",
    "c=a+b           # 변수 c에 a+b의 값 저장\n",
    "print(a,b,c)    # 변수, a,b,c에 저장된 값을 화면에 출력"
   ]
  },
  {
   "cell_type": "code",
   "execution_count": 3,
   "id": "7446cf7b",
   "metadata": {},
   "outputs": [
    {
     "name": "stdout",
     "output_type": "stream",
     "text": [
      "150\n"
     ]
    }
   ],
   "source": [
    "a=100        # 변수 a에 100 저장\n",
    "a=150        # 변수 a에 저장된 100을 지우고 150 저장\n",
    "print(a)     # 변수 a에 저장된 값(150)을 화면에 출력"
   ]
  },
  {
   "cell_type": "code",
   "execution_count": 4,
   "id": "f919742b",
   "metadata": {},
   "outputs": [
    {
     "name": "stdout",
     "output_type": "stream",
     "text": [
      "250\n"
     ]
    }
   ],
   "source": [
    "a=100\n",
    "a=a+150\n",
    "print(a)"
   ]
  },
  {
   "cell_type": "markdown",
   "id": "770aa4ed",
   "metadata": {},
   "source": [
    "### 3. 산술 연산자와 대입 연산자\n",
    " - 연산자 : 변수나 자료를 대상으로 연산을 하는 방법을 정의해 놓은 것\n",
    " - 산술 연산자, 대입 연산자, 비교 연산자, 논리 연산자\n",
    "     - 산술 연산자 : 숫자형 자료와 변수를 대상으로 덧셈, 뺄셈, 곱셈, 나눗셈 등의 산술 계산\n",
    "     - 대입 연산자 : 연산자의 오른쪽에 있는 수식의 값을 왼쪽의 변수에 저장"
   ]
  },
  {
   "cell_type": "code",
   "execution_count": 5,
   "id": "05405a5a",
   "metadata": {},
   "outputs": [
    {
     "data": {
      "text/plain": [
       "1010"
      ]
     },
     "execution_count": 5,
     "metadata": {},
     "output_type": "execute_result"
    }
   ],
   "source": [
    "10 + 50 * 20"
   ]
  },
  {
   "cell_type": "code",
   "execution_count": 6,
   "id": "e95e406a",
   "metadata": {},
   "outputs": [
    {
     "data": {
      "text/plain": [
       "1200"
      ]
     },
     "execution_count": 6,
     "metadata": {},
     "output_type": "execute_result"
    }
   ],
   "source": [
    "(10 + 50) * 20"
   ]
  },
  {
   "cell_type": "markdown",
   "id": "0d18198c",
   "metadata": {},
   "source": [
    "#### 프로그래밍 연습"
   ]
  },
  {
   "cell_type": "code",
   "execution_count": 7,
   "id": "981c5218",
   "metadata": {},
   "outputs": [
    {
     "name": "stdout",
     "output_type": "stream",
     "text": [
      "9\n",
      "3\n",
      "-6\n"
     ]
    }
   ],
   "source": [
    "a=6\n",
    "b=3\n",
    "c=a+b\n",
    "d=a-b\n",
    "print(c)\n",
    "print(d)\n",
    "d=d-c\n",
    "print(d)"
   ]
  },
  {
   "cell_type": "code",
   "execution_count": 8,
   "id": "ec233732",
   "metadata": {},
   "outputs": [
    {
     "name": "stdout",
     "output_type": "stream",
     "text": [
      "1.0\n",
      "10\n"
     ]
    }
   ],
   "source": [
    "x=10\n",
    "y=20\n",
    "z=y/x\n",
    "y=x\n",
    "x=(y%z)+1\n",
    "print(x)\n",
    "print(y)"
   ]
  },
  {
   "cell_type": "code",
   "execution_count": 9,
   "id": "a6f44b0b",
   "metadata": {},
   "outputs": [
    {
     "name": "stdout",
     "output_type": "stream",
     "text": [
      "14\n",
      "35\n",
      "42\n"
     ]
    }
   ],
   "source": [
    "a=7\n",
    "b=6\n",
    "c=a*b\n",
    "b=c-a\n",
    "a=(c%b)+(c-b)\n",
    "print(a)\n",
    "print(b)\n",
    "print(c)"
   ]
  },
  {
   "cell_type": "code",
   "execution_count": 10,
   "id": "aa8501c4",
   "metadata": {},
   "outputs": [
    {
     "name": "stdout",
     "output_type": "stream",
     "text": [
      "20\n",
      "17\n"
     ]
    }
   ],
   "source": [
    "x=17\n",
    "y=20\n",
    "t=x\n",
    "x=y\n",
    "y=t\n",
    "print(x)\n",
    "print(y)"
   ]
  },
  {
   "cell_type": "code",
   "execution_count": 11,
   "id": "e6abefa7",
   "metadata": {},
   "outputs": [
    {
     "name": "stdout",
     "output_type": "stream",
     "text": [
      "28\n"
     ]
    }
   ],
   "source": [
    "s=0\n",
    "s=s+1\n",
    "s=s+2\n",
    "s=s+3\n",
    "s=s+4\n",
    "s=s+5\n",
    "s=s+6\n",
    "s=s+7\n",
    "print(s)"
   ]
  },
  {
   "cell_type": "code",
   "execution_count": 12,
   "id": "3a46dd96",
   "metadata": {},
   "outputs": [
    {
     "name": "stdout",
     "output_type": "stream",
     "text": [
      "4\n",
      "66\n",
      "20\n",
      "26\n"
     ]
    }
   ],
   "source": [
    "x=22\n",
    "y=6\n",
    "z=x%y\n",
    "print(z)\n",
    "z=x+z\n",
    "y=z-y\n",
    "x=z+y*2\n",
    "print(x)\n",
    "print(y)\n",
    "print(z)"
   ]
  },
  {
   "cell_type": "markdown",
   "id": "77ac5f88",
   "metadata": {},
   "source": [
    "### 4. 변수와 연산자를 이용한 프로그램 작성\n",
    " - 빵값 계산 프로그램"
   ]
  },
  {
   "cell_type": "code",
   "execution_count": 13,
   "id": "400f9280",
   "metadata": {},
   "outputs": [
    {
     "name": "stdout",
     "output_type": "stream",
     "text": [
      "전체 빵값: 7200.0\n"
     ]
    }
   ],
   "source": [
    "price=800\n",
    "count=10\n",
    "total=price * count\n",
    "total=total - total * 0.1\n",
    "print(\"전체 빵값:\", total)"
   ]
  },
  {
   "cell_type": "code",
   "execution_count": 14,
   "id": "41e14222",
   "metadata": {},
   "outputs": [
    {
     "name": "stdout",
     "output_type": "stream",
     "text": [
      "빵 단가 입력:700\n",
      "빵 개수 입력:20\n",
      "전체 빵값: 12600.0\n"
     ]
    }
   ],
   "source": [
    "price = input(\"빵 단가 입력:\")\n",
    "count = input(\"빵 개수 입력:\")\n",
    "\n",
    "price = int(price)\n",
    "count = int(count)\n",
    "\n",
    "total = price * count\n",
    "total = total - total * 0.1\n",
    "\n",
    "print(\"전체 빵값:\", total)"
   ]
  },
  {
   "cell_type": "markdown",
   "id": "58c198dd",
   "metadata": {},
   "source": [
    "### 5. 표준 입출력\n",
    " - 표준 입력 : 키보드와 같은 기본 입력 장치를 통해 자료를 입력받는 것\n",
    " - 표준 출력 : 모니터와 같은 기본 출력 장치를 통해 결과를 출력하는 것"
   ]
  },
  {
   "cell_type": "markdown",
   "id": "0b36ce4f",
   "metadata": {},
   "source": [
    "#### 해보기 : 표준 입출력을 이용한 프로그램 만들기"
   ]
  },
  {
   "cell_type": "code",
   "execution_count": 1,
   "id": "d18e182e",
   "metadata": {},
   "outputs": [
    {
     "name": "stdout",
     "output_type": "stream",
     "text": [
      "키(cm): 179\n",
      "몸무게(kg): 67\n",
      "체질량 지수 =  20.910708155176177\n"
     ]
    }
   ],
   "source": [
    "height = input(\"키(cm): \")       # 표준 입력\n",
    "weight = input(\"몸무게(kg): \")   # 표준 입력\n",
    "\n",
    "height = int(height)\n",
    "weight = int(weight)\n",
    "\n",
    "bmi = (weight/(height*height)) * 10000\n",
    "print(\"체질량 지수 = \", bmi)      # 표준 출력"
   ]
  },
  {
   "cell_type": "markdown",
   "id": "410028ce",
   "metadata": {},
   "source": [
    "### 6. 파일 입출력\n",
    " - open()\n",
    " - readlines()\n",
    " - write()\n",
    " - close()"
   ]
  },
  {
   "cell_type": "code",
   "execution_count": 3,
   "id": "8bcbcd96",
   "metadata": {},
   "outputs": [
    {
     "name": "stdout",
     "output_type": "stream",
     "text": [
      "100\n",
      "200\n",
      "300\n",
      "400\n",
      "500\n",
      "600\n",
      "700\n",
      "800\n",
      "900\n",
      "1000\n",
      "합계:  5500\n"
     ]
    }
   ],
   "source": [
    "sum = 0\n",
    "\n",
    "f = open(\"input.txt\", \"r\")\n",
    "lines = f.readlines()\n",
    "\n",
    "for i in range(0, len(lines)):\n",
    "    num = int(lines[i])\n",
    "    print(num)\n",
    "    sum = sum + num\n",
    "    \n",
    "print(\"합계: \", sum)\n",
    "f.close()\n",
    "\n",
    "f = open(\"output.txt\", \"w\")\n",
    "f.write(\"합계: \" + str(sum))\n",
    "f.close()"
   ]
  },
  {
   "cell_type": "markdown",
   "id": "83743106",
   "metadata": {},
   "source": [
    "### 활동노트 : 행성까지의 거리-시간 계산 프로그램 만들기"
   ]
  },
  {
   "cell_type": "code",
   "execution_count": 4,
   "id": "14cdb1bd",
   "metadata": {},
   "outputs": [
    {
     "name": "stdout",
     "output_type": "stream",
     "text": [
      "행성 이름: 화성\n",
      "행성가지의 거리(km): 78400000\n",
      "이동 속도(km/h): 300\n",
      "이동 시간:  261333 시간\n",
      "이동 시간:  29 년 10 월 3 일 21 시간\n"
     ]
    }
   ],
   "source": [
    "name = input(\"행성 이름: \")\n",
    "distance = input(\"행성가지의 거리(km): \")\n",
    "speed = input(\"이동 속도(km/h): \")\n",
    "\n",
    "distance = int(distance)\n",
    "speed = int(speed)\n",
    "\n",
    "totaltime = distance / speed\n",
    "totaltime = int(totaltime)\n",
    "\n",
    "year = totaltime / (365*24)\n",
    "year = int(year)\n",
    "\n",
    "month = (totaltime - (year*365*24)) / (30*24)\n",
    "month = int(month)\n",
    "\n",
    "day = (totaltime - (year*365*24)-(month*30*24)) / 24\n",
    "day = int(day)\n",
    "\n",
    "time = totaltime - (year*365*24) - (month*30*24) -(day*24)\n",
    "\n",
    "print(\"이동 시간: \", totaltime, \"시간\")\n",
    "print(\"이동 시간: \", year, \"년\", month, \"월\", day, \"일\", time, \"시간\")"
   ]
  },
  {
   "cell_type": "markdown",
   "id": "af460115",
   "metadata": {},
   "source": []
  }
 ],
 "metadata": {
  "kernelspec": {
   "display_name": "Python 3",
   "language": "python",
   "name": "python3"
  },
  "language_info": {
   "codemirror_mode": {
    "name": "ipython",
    "version": 3
   },
   "file_extension": ".py",
   "mimetype": "text/x-python",
   "name": "python",
   "nbconvert_exporter": "python",
   "pygments_lexer": "ipython3",
   "version": "3.8.8"
  }
 },
 "nbformat": 4,
 "nbformat_minor": 5
}
