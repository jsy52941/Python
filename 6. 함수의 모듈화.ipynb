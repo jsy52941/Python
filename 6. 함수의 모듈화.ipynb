{
 "cells": [
  {
   "cell_type": "markdown",
   "id": "fc4b0917",
   "metadata": {},
   "source": [
    "# 1학년 정보 프로그래밍"
   ]
  },
  {
   "cell_type": "markdown",
   "id": "9814e9d1",
   "metadata": {},
   "source": [
    "### 1. 모듈과 모듈화"
   ]
  },
  {
   "cell_type": "code",
   "execution_count": 1,
   "id": "22a5bafc",
   "metadata": {},
   "outputs": [
    {
     "name": "stdout",
     "output_type": "stream",
     "text": [
      "70\n"
     ]
    }
   ],
   "source": [
    "a = [0,0,0]\n",
    "\n",
    "a[0] = 50\n",
    "a[1] = 20\n",
    "a[2] = a[0] + a[1]\n",
    "\n",
    "print(a[2])"
   ]
  },
  {
   "cell_type": "markdown",
   "id": "ea0a8395",
   "metadata": {},
   "source": [
    "### 2. 함수\n",
    " - 자주 사용되는 기능을 수행할 수 있도록 미리 만들어 둔 모듈\n",
    " - 고유한 이름과 기능을 가짐"
   ]
  },
  {
   "cell_type": "code",
   "execution_count": 1,
   "id": "27e45c22",
   "metadata": {},
   "outputs": [
    {
     "name": "stdout",
     "output_type": "stream",
     "text": [
      "삼각형의 밑변: 10\n",
      "삼각형의 높이: 20\n",
      "삼각형의 넓이:  100.0\n"
     ]
    }
   ],
   "source": [
    "# 삼각형 넓이 구하기\n",
    "\n",
    "def triangle(w, h):\n",
    "    t = (w*h)/2\n",
    "    return t\n",
    "\n",
    "width = input(\"삼각형의 밑변: \")\n",
    "width = int(width)\n",
    "\n",
    "height = input(\"삼각형의 높이: \")\n",
    "height = int(height)\n",
    "\n",
    "area = triangle(width, height)\n",
    "\n",
    "print(\"삼각형의 넓이: \", area)"
   ]
  },
  {
   "cell_type": "markdown",
   "id": "b6a4ed84",
   "metadata": {},
   "source": [
    "### 3. 함수의 종류와 특징"
   ]
  },
  {
   "cell_type": "code",
   "execution_count": 2,
   "id": "36fb7213",
   "metadata": {},
   "outputs": [
    {
     "name": "stdout",
     "output_type": "stream",
     "text": [
      "변환하려는 시간(h): 125\n",
      "125 시간은 450000 초입니다.\n"
     ]
    }
   ],
   "source": [
    "def HtoS(h):\n",
    "    s = h * 3600\n",
    "    return s\n",
    "\n",
    "hour = input(\"변환하려는 시간(h): \")\n",
    "hour = int(hour)\n",
    "\n",
    "second = HtoS(hour)\n",
    "\n",
    "print(hour, \"시간은\", second, \"초입니다.\")"
   ]
  },
  {
   "cell_type": "markdown",
   "id": "78343dd4",
   "metadata": {},
   "source": [
    "### 4. 전역 변수와 지역 변수"
   ]
  },
  {
   "cell_type": "code",
   "execution_count": 5,
   "id": "97332308",
   "metadata": {},
   "outputs": [
    {
     "name": "stdout",
     "output_type": "stream",
     "text": [
      "함수 안에서 결과 출력 70\n",
      "함수 안에서 결과 출력 30\n"
     ]
    },
    {
     "ename": "NameError",
     "evalue": "name 'result1' is not defined",
     "output_type": "error",
     "traceback": [
      "\u001b[1;31m---------------------------------------------------------------------------\u001b[0m",
      "\u001b[1;31mNameError\u001b[0m                                 Traceback (most recent call last)",
      "\u001b[1;32m<ipython-input-5-ff8cad96f371>\u001b[0m in \u001b[0;36m<module>\u001b[1;34m\u001b[0m\n\u001b[0;32m     13\u001b[0m \u001b[0mfunction2\u001b[0m\u001b[1;33m(\u001b[0m\u001b[1;33m)\u001b[0m\u001b[1;33m\u001b[0m\u001b[1;33m\u001b[0m\u001b[0m\n\u001b[0;32m     14\u001b[0m \u001b[1;33m\u001b[0m\u001b[0m\n\u001b[1;32m---> 15\u001b[1;33m \u001b[0mprint\u001b[0m\u001b[1;33m(\u001b[0m\u001b[1;34m\"함수 밖에서 결과 출력\"\u001b[0m\u001b[1;33m,\u001b[0m \u001b[0mresult1\u001b[0m\u001b[1;33m)\u001b[0m\u001b[1;33m\u001b[0m\u001b[1;33m\u001b[0m\u001b[0m\n\u001b[0m\u001b[0;32m     16\u001b[0m \u001b[0mprint\u001b[0m\u001b[1;33m(\u001b[0m\u001b[1;34m\"함수 밖에서 결과 출력\"\u001b[0m\u001b[1;33m,\u001b[0m \u001b[0mresult2\u001b[0m\u001b[1;33m)\u001b[0m\u001b[1;33m\u001b[0m\u001b[1;33m\u001b[0m\u001b[0m\n",
      "\u001b[1;31mNameError\u001b[0m: name 'result1' is not defined"
     ]
    }
   ],
   "source": [
    "def function1():\n",
    "    result1 = num1 + num2\n",
    "    print(\"함수 안에서 결과 출력\", result1)\n",
    "    \n",
    "def function2():\n",
    "    result2 = num1 - num2\n",
    "    print(\"함수 안에서 결과 출력\", result2)\n",
    "    \n",
    "num1 = 50\n",
    "num2 = 20\n",
    "\n",
    "function1()\n",
    "function2()\n",
    "\n",
    "print(\"함수 밖에서 결과 출력\", result1)\n",
    "print(\"함수 밖에서 결과 출력\", result2)"
   ]
  },
  {
   "cell_type": "code",
   "execution_count": 6,
   "id": "c6b81bd0",
   "metadata": {},
   "outputs": [
    {
     "name": "stdout",
     "output_type": "stream",
     "text": [
      "함수 안에서 결과 출력 70\n",
      "함수 안에서 결과 출력 30\n",
      "함수 밖에서 결과 출력 70\n",
      "함수 밖에서 결과 출력 30\n"
     ]
    }
   ],
   "source": [
    "def function1():\n",
    "    global result1\n",
    "    result1 = num1 + num2\n",
    "    print(\"함수 안에서 결과 출력\", result1)\n",
    "    \n",
    "def function2():\n",
    "    global result2\n",
    "    result2 = num1 - num2\n",
    "    print(\"함수 안에서 결과 출력\", result2)\n",
    "    \n",
    "num1 = 50\n",
    "num2 = 20\n",
    "\n",
    "function1()\n",
    "function2()\n",
    "\n",
    "print(\"함수 밖에서 결과 출력\", result1)\n",
    "print(\"함수 밖에서 결과 출력\", result2)"
   ]
  },
  {
   "cell_type": "markdown",
   "id": "ce800a85",
   "metadata": {},
   "source": [
    "### 활동 노트 : 화씨온도를 섭씨 온도로 변환하기"
   ]
  },
  {
   "cell_type": "code",
   "execution_count": 7,
   "id": "b7b753c5",
   "metadata": {},
   "outputs": [
    {
     "name": "stdout",
     "output_type": "stream",
     "text": [
      "화씨온도를 입력하세요: 45\n",
      "화씨온도 45 도는 섭씨온도 7.222222222222222 도입니다.\n"
     ]
    }
   ],
   "source": [
    "def FtoC(f):\n",
    "    c = (f-32) / 1.8\n",
    "    return c\n",
    "\n",
    "f = input(\"화씨온도를 입력하세요: \")\n",
    "f = int(f)\n",
    "c = FtoC(f)\n",
    "\n",
    "print(\"화씨온도\", f, \"도는 섭씨온도\", c, \"도입니다.\")"
   ]
  },
  {
   "cell_type": "code",
   "execution_count": 8,
   "id": "61c6c17f",
   "metadata": {},
   "outputs": [
    {
     "name": "stdout",
     "output_type": "stream",
     "text": [
      "화씨온도를 입력하세요: 45\n",
      "화씨온도 45 도는 섭씨온도 7.222222222222222 도입니다.\n",
      "섭씨온도를 입력하세요: 30\n",
      "섭씨온도 30 도는 화씨온도 86.0 도입니다.\n"
     ]
    }
   ],
   "source": [
    "def FtoC(f):\n",
    "    c = (f-32) / 1.8\n",
    "    return c\n",
    "\n",
    "def CtoF(c):\n",
    "    f = c*1.8 + 32\n",
    "    return f\n",
    "\n",
    "f = input(\"화씨온도를 입력하세요: \")\n",
    "f = int(f)\n",
    "c = FtoC(f)\n",
    "\n",
    "print(\"화씨온도\", f, \"도는 섭씨온도\", c, \"도입니다.\")\n",
    "\n",
    "c = input(\"섭씨온도를 입력하세요: \")\n",
    "c = int(c)\n",
    "f = CtoF(c)\n",
    "\n",
    "print(\"섭씨온도\", c, \"도는 화씨온도\", f, \"도입니다.\")"
   ]
  },
  {
   "cell_type": "markdown",
   "id": "0dfbeb8a",
   "metadata": {},
   "source": [
    "### 활동 노트 : 환전 프로그램 개발하기"
   ]
  },
  {
   "cell_type": "code",
   "execution_count": 9,
   "id": "872f16d2",
   "metadata": {},
   "outputs": [
    {
     "name": "stdout",
     "output_type": "stream",
     "text": [
      "환전 코드를 입력하세요: 2\n",
      "환전 금액을 입력하세요: 3000\n",
      "3000 원은 2.4 유로 입니다.\n"
     ]
    }
   ],
   "source": [
    "def exchange(c, m):\n",
    "    if (c == 1):\n",
    "        m2 = m * 0.9 / 1000\n",
    "    elif (c == 2):\n",
    "        m2 = m * 0.8 / 1000\n",
    "    elif (c == 3):\n",
    "        m2 = m * 5.6 / 1000\n",
    "    elif (c == 4):\n",
    "        m2 = m * 91.8 / 1000\n",
    "    return m2\n",
    "\n",
    "code = input(\"환전 코드를 입력하세요: \")\n",
    "code = int(code)\n",
    "\n",
    "money = input(\"환전 금액을 입력하세요: \")\n",
    "money = int(money)\n",
    "\n",
    "money2 = exchange(code, money)\n",
    "\n",
    "if (code == 1):\n",
    "    unit = \"달러\"\n",
    "elif (code == 2):\n",
    "    unit = \"유로\"\n",
    "elif (code == 3):\n",
    "    unit = \"위안\"\n",
    "elif (code == 4):\n",
    "    unit = \"엔\"\n",
    "\n",
    "print(money, \"원은\", money2, unit, \"입니다.\")"
   ]
  },
  {
   "cell_type": "code",
   "execution_count": null,
   "id": "dbcae657",
   "metadata": {},
   "outputs": [],
   "source": []
  }
 ],
 "metadata": {
  "kernelspec": {
   "display_name": "Python 3",
   "language": "python",
   "name": "python3"
  },
  "language_info": {
   "codemirror_mode": {
    "name": "ipython",
    "version": 3
   },
   "file_extension": ".py",
   "mimetype": "text/x-python",
   "name": "python",
   "nbconvert_exporter": "python",
   "pygments_lexer": "ipython3",
   "version": "3.8.8"
  }
 },
 "nbformat": 4,
 "nbformat_minor": 5
}
