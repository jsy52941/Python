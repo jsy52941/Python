{
 "cells": [
  {
   "cell_type": "markdown",
   "id": "fc4b0917",
   "metadata": {},
   "source": [
    "# 1학년 정보 프로그래밍"
   ]
  },
  {
   "cell_type": "markdown",
   "id": "9814e9d1",
   "metadata": {},
   "source": [
    "### 1. 배열\n",
    " - 배열은 동일한 성격의 자료를 관리하기 쉽게 하나로 묶어 놓은 형태의 저장 공간"
   ]
  },
  {
   "cell_type": "code",
   "execution_count": 1,
   "id": "22a5bafc",
   "metadata": {},
   "outputs": [
    {
     "name": "stdout",
     "output_type": "stream",
     "text": [
      "70\n"
     ]
    }
   ],
   "source": [
    "a = [0,0,0]\n",
    "\n",
    "a[0] = 50\n",
    "a[1] = 20\n",
    "a[2] = a[0] + a[1]\n",
    "\n",
    "print(a[2])"
   ]
  },
  {
   "cell_type": "markdown",
   "id": "ea0a8395",
   "metadata": {},
   "source": [
    "### 2. 배열의 장점"
   ]
  },
  {
   "cell_type": "code",
   "execution_count": 4,
   "id": "27e45c22",
   "metadata": {},
   "outputs": [
    {
     "name": "stdout",
     "output_type": "stream",
     "text": [
      "합계:  595\n"
     ]
    }
   ],
   "source": [
    "a = [72, 31, 88, 34, 56, 67, 44, 39, 87, 77]\n",
    "\n",
    "total = 0\n",
    "\n",
    "for i in range(10):\n",
    "    total = total + a[i]\n",
    "\n",
    "print(\"합계: \", total)"
   ]
  },
  {
   "cell_type": "markdown",
   "id": "b6a4ed84",
   "metadata": {},
   "source": [
    "### 3. 배열의 종류"
   ]
  },
  {
   "cell_type": "code",
   "execution_count": 5,
   "id": "36fb7213",
   "metadata": {},
   "outputs": [
    {
     "name": "stdout",
     "output_type": "stream",
     "text": [
      "0 0 10\n",
      "0 1 20\n",
      "0 2 30\n",
      "1 0 40\n",
      "1 1 50\n",
      "1 2 60\n",
      "2 0 70\n",
      "2 1 80\n",
      "2 2 90\n"
     ]
    }
   ],
   "source": [
    "a = [[10, 20, 30],\n",
    "    [40, 50, 60],\n",
    "    [70, 80, 90]]\n",
    "\n",
    "for i in range(3):\n",
    "    for j in range(3):\n",
    "        print(i, j, a[i][j])"
   ]
  },
  {
   "cell_type": "markdown",
   "id": "78343dd4",
   "metadata": {},
   "source": [
    "### 활동노트 : OO텔레콤 요금  관리 프로그램 만들기"
   ]
  },
  {
   "cell_type": "code",
   "execution_count": 6,
   "id": "97332308",
   "metadata": {},
   "outputs": [
    {
     "name": "stdout",
     "output_type": "stream",
     "text": [
      "전체 사용자 수:  3\n",
      "0 번 사용자의 요금은 12000\n",
      "1 번 사용자의 요금은 6000\n",
      "2 번 사용자의 요금은 8640\n",
      "남자 회원들이 사용한 요금 합은 18000\n",
      "여자 회원들이 사용한 요금 합은 8640\n",
      "남녀 모든 회원들이 사용한 요금 합은 26640\n"
     ]
    }
   ],
   "source": [
    "name = [\"홍길동\", \"이순신\", \"황진이\"]\n",
    "gender = [\"남\", \"남\", \"여\"]\n",
    "time = [100, 50, 72]\n",
    "discount = [\"없음\", \"청소년\", \"국가 유공자\"]\n",
    "\n",
    "user = 0\n",
    "price = 0\n",
    "total_m = 0\n",
    "total_w = 0\n",
    "total_all = 0\n",
    "\n",
    "user = len(name)\n",
    "print(\"전체 사용자 수: \", user)\n",
    "\n",
    "for i in range(user):\n",
    "    price = time[i] * 60 * 2\n",
    "    print(i, \"번 사용자의 요금은\", price)\n",
    "    \n",
    "    if (gender[i] == \"남\"):\n",
    "        total_m = total_m + price\n",
    "        \n",
    "    if (gender[i] == \"여\"):\n",
    "        total_w = total_w + price\n",
    "    \n",
    "    total_all = total_all + price\n",
    "    \n",
    "print(\"남자 회원들이 사용한 요금 합은\", total_m)\n",
    "print(\"여자 회원들이 사용한 요금 합은\", total_w)\n",
    "print(\"남녀 모든 회원들이 사용한 요금 합은\", total_all)\n",
    "        "
   ]
  },
  {
   "cell_type": "code",
   "execution_count": 8,
   "id": "c6b81bd0",
   "metadata": {},
   "outputs": [
    {
     "name": "stdout",
     "output_type": "stream",
     "text": [
      "전체 사용자 수:  3\n",
      "0 번 사용자의 요금은 12000\n",
      "1 번 사용자의 요금은 4800.0\n",
      "2 번 사용자의 요금은 6048.0\n",
      "남자 회원들이 사용한 요금 합은 16800.0\n",
      "여자 회원들이 사용한 요금 합은 6048.0\n",
      "남녀 모든 회원들이 사용한 요금 합은 22848.0\n"
     ]
    }
   ],
   "source": [
    "name = [\"홍길동\", \"이순신\", \"황진이\"]\n",
    "gender = [\"남\", \"남\", \"여\"]\n",
    "time = [100, 50, 72]\n",
    "discount = [\"없음\", \"청소년\", \"국가 유공자\"]\n",
    "\n",
    "user = 0\n",
    "price = 0\n",
    "total_m = 0\n",
    "total_w = 0\n",
    "total_all = 0\n",
    "\n",
    "user = len(name)\n",
    "print(\"전체 사용자 수: \", user)\n",
    "\n",
    "for i in range(user):\n",
    "    price = time[i] * 60 * 2\n",
    "\n",
    "    if (discount[i] == \"청소년\"):\n",
    "        price = price - price * 0.2\n",
    "        \n",
    "    if (discount[i] == \"국가 유공자\"):\n",
    "        price = price - price * 0.3\n",
    "    \n",
    "    print(i, \"번 사용자의 요금은\", price)\n",
    "    \n",
    "    if (gender[i] == \"남\"):\n",
    "        total_m = total_m + price\n",
    "        \n",
    "    if (gender[i] == \"여\"):\n",
    "        total_w = total_w + price\n",
    "    \n",
    "    total_all = total_all + price\n",
    "    \n",
    "print(\"남자 회원들이 사용한 요금 합은\", total_m)\n",
    "print(\"여자 회원들이 사용한 요금 합은\", total_w)\n",
    "print(\"남녀 모든 회원들이 사용한 요금 합은\", total_all)\n"
   ]
  },
  {
   "cell_type": "code",
   "execution_count": null,
   "id": "f68a68e3",
   "metadata": {},
   "outputs": [],
   "source": []
  }
 ],
 "metadata": {
  "kernelspec": {
   "display_name": "Python 3",
   "language": "python",
   "name": "python3"
  },
  "language_info": {
   "codemirror_mode": {
    "name": "ipython",
    "version": 3
   },
   "file_extension": ".py",
   "mimetype": "text/x-python",
   "name": "python",
   "nbconvert_exporter": "python",
   "pygments_lexer": "ipython3",
   "version": "3.8.8"
  }
 },
 "nbformat": 4,
 "nbformat_minor": 5
}
